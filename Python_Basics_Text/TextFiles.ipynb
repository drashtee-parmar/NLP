{
 "cells": [
  {
   "cell_type": "code",
   "execution_count": 1,
   "id": "20e9c381",
   "metadata": {},
   "outputs": [],
   "source": [
    "person = 'Drashtee'"
   ]
  },
  {
   "cell_type": "code",
   "execution_count": 2,
   "id": "cfbd72f7",
   "metadata": {},
   "outputs": [
    {
     "name": "stdout",
     "output_type": "stream",
     "text": [
      "My name is Drashtee\n"
     ]
    }
   ],
   "source": [
    "print(\"My name is {}\".format(person))"
   ]
  },
  {
   "cell_type": "code",
   "execution_count": 3,
   "id": "5ba3d204",
   "metadata": {},
   "outputs": [
    {
     "name": "stdout",
     "output_type": "stream",
     "text": [
      "My name is Drashtee\n"
     ]
    }
   ],
   "source": [
    "# using f string\n",
    "print(f\"My name is {person}\")"
   ]
  },
  {
   "cell_type": "code",
   "execution_count": 6,
   "id": "8a71b012",
   "metadata": {},
   "outputs": [],
   "source": [
    "# using dictionary\n",
    "d = {'a':123,'b':456}"
   ]
  },
  {
   "cell_type": "code",
   "execution_count": 7,
   "id": "b1749fe1",
   "metadata": {},
   "outputs": [
    {
     "name": "stdout",
     "output_type": "stream",
     "text": [
      "my number is 123\n"
     ]
    }
   ],
   "source": [
    "print(f\"my number is {d['a']}\")"
   ]
  },
  {
   "cell_type": "code",
   "execution_count": 9,
   "id": "be3703d7",
   "metadata": {},
   "outputs": [],
   "source": [
    "# using list\n",
    "list = [0,1,2]"
   ]
  },
  {
   "cell_type": "code",
   "execution_count": 10,
   "id": "ad5e6bf9",
   "metadata": {},
   "outputs": [
    {
     "name": "stdout",
     "output_type": "stream",
     "text": [
      "my number is 0\n"
     ]
    }
   ],
   "source": [
    "print(f\"my number is {list[0]}\")"
   ]
  },
  {
   "cell_type": "markdown",
   "id": "24add419",
   "metadata": {},
   "source": [
    "##  Minimum width, alighnment and padding"
   ]
  },
  {
   "cell_type": "code",
   "execution_count": 20,
   "id": "c071fcfe",
   "metadata": {},
   "outputs": [],
   "source": [
    "# Tuple\n",
    "library = [('Author', 'Topic', 'Pages'), ('Twain', 'Rafting in water alone', 601), ('Feynman', 'Physics', 95), ('Hamilton', 'Mythology', 144)]\n"
   ]
  },
  {
   "cell_type": "code",
   "execution_count": 21,
   "id": "5b3b9120",
   "metadata": {},
   "outputs": [
    {
     "data": {
      "text/plain": [
       "[('Author', 'Topic', 'Pages'),\n",
       " ('Twain', 'Rafting in water alone', 601),\n",
       " ('Feynman', 'Physics', 95),\n",
       " ('Hamilton', 'Mythology', 144)]"
      ]
     },
     "execution_count": 21,
     "metadata": {},
     "output_type": "execute_result"
    }
   ],
   "source": [
    "library"
   ]
  },
  {
   "cell_type": "code",
   "execution_count": 24,
   "id": "b036cec7",
   "metadata": {},
   "outputs": [
    {
     "name": "stdout",
     "output_type": "stream",
     "text": [
      "Author     Topic                          .....Pages\n",
      "Twain      Rafting in water alone         .......601\n",
      "Feynman    Physics                        ........95\n",
      "Hamilton   Mythology                      .......144\n"
     ]
    }
   ],
   "source": [
    "# for book in library:\n",
    "#     print(f'Author is {book[0]}')\n",
    "\n",
    "for author, topic, pages in library:\n",
    "#     print(f\"Author is {author}\")\n",
    "#     print(f\"{author} {topic} {pages}\")\n",
    "#     print(f\"{author:{10}} {topic:{30}} {pages:{10}}\")\n",
    "    print(f\"{author:{10}} {topic:{30}} {pages:.>{10}}\")"
   ]
  },
  {
   "cell_type": "code",
   "execution_count": 25,
   "id": "62d80fbc",
   "metadata": {},
   "outputs": [],
   "source": [
    "# Date formating\n",
    "from datetime import datetime"
   ]
  },
  {
   "cell_type": "markdown",
   "id": "32f5c71a",
   "metadata": {},
   "source": [
    "### Reference\n",
    "\n",
    "https://strftime.org/"
   ]
  },
  {
   "cell_type": "code",
   "execution_count": 33,
   "id": "804291fc",
   "metadata": {},
   "outputs": [],
   "source": [
    "today = datetime(year=2024, month=8, day=1)"
   ]
  },
  {
   "cell_type": "code",
   "execution_count": 34,
   "id": "a4baf690",
   "metadata": {},
   "outputs": [
    {
     "name": "stdout",
     "output_type": "stream",
     "text": [
      "2024-08-01 00:00:00\n"
     ]
    }
   ],
   "source": [
    "print(f\"{today:}\")"
   ]
  },
  {
   "cell_type": "code",
   "execution_count": null,
   "id": "51c9fd25",
   "metadata": {},
   "outputs": [],
   "source": []
  },
  {
   "cell_type": "code",
   "execution_count": 35,
   "id": "63f3c137",
   "metadata": {},
   "outputs": [
    {
     "data": {
      "text/plain": [
       "datetime.datetime(2024, 8, 1, 0, 0)"
      ]
     },
     "execution_count": 35,
     "metadata": {},
     "output_type": "execute_result"
    }
   ],
   "source": [
    "today"
   ]
  },
  {
   "cell_type": "code",
   "execution_count": 36,
   "id": "f60446b1",
   "metadata": {},
   "outputs": [
    {
     "name": "stdout",
     "output_type": "stream",
     "text": [
      " August 01, 2024\n"
     ]
    }
   ],
   "source": [
    "print(f\"{today: %B %d, %Y}\")"
   ]
  },
  {
   "cell_type": "markdown",
   "id": "098c6f7d",
   "metadata": {},
   "source": [
    "### Creating text file\n"
   ]
  },
  {
   "cell_type": "code",
   "execution_count": 41,
   "id": "2b473e9b",
   "metadata": {},
   "outputs": [
    {
     "name": "stdout",
     "output_type": "stream",
     "text": [
      "Overwriting test.txt\n"
     ]
    }
   ],
   "source": [
    "%%writefile test.txt\n",
    "Hello, this is a quick test file.\n",
    "This is the second line of the file."
   ]
  },
  {
   "cell_type": "code",
   "execution_count": 42,
   "id": "64727cb8",
   "metadata": {},
   "outputs": [],
   "source": [
    "# open text file"
   ]
  },
  {
   "cell_type": "code",
   "execution_count": 44,
   "id": "a9f2a0f0",
   "metadata": {},
   "outputs": [],
   "source": [
    "myfile = open('test.txt')"
   ]
  },
  {
   "cell_type": "code",
   "execution_count": 45,
   "id": "b3ac406f",
   "metadata": {},
   "outputs": [
    {
     "data": {
      "text/plain": [
       "'/Users/drashteeparmar/Drashtee/Programming/NLP/Python_Basics_Text'"
      ]
     },
     "execution_count": 45,
     "metadata": {},
     "output_type": "execute_result"
    }
   ],
   "source": [
    "pwd"
   ]
  },
  {
   "cell_type": "code",
   "execution_count": 46,
   "id": "1ee7edb4",
   "metadata": {},
   "outputs": [],
   "source": [
    "myfile=open('test.txt')"
   ]
  },
  {
   "cell_type": "code",
   "execution_count": 47,
   "id": "3e1f9586",
   "metadata": {},
   "outputs": [
    {
     "data": {
      "text/plain": [
       "<_io.TextIOWrapper name='test.txt' mode='r' encoding='UTF-8'>"
      ]
     },
     "execution_count": 47,
     "metadata": {},
     "output_type": "execute_result"
    }
   ],
   "source": [
    "myfile"
   ]
  },
  {
   "cell_type": "code",
   "execution_count": 52,
   "id": "65ccc310",
   "metadata": {},
   "outputs": [
    {
     "data": {
      "text/plain": [
       "''"
      ]
     },
     "execution_count": 52,
     "metadata": {},
     "output_type": "execute_result"
    }
   ],
   "source": [
    "# Read the file\n",
    "\n",
    "myfile.read()"
   ]
  },
  {
   "cell_type": "code",
   "execution_count": 53,
   "id": "40a6b551",
   "metadata": {},
   "outputs": [],
   "source": [
    "# Reset the cursor"
   ]
  },
  {
   "cell_type": "code",
   "execution_count": 54,
   "id": "b4ec4f8d",
   "metadata": {},
   "outputs": [
    {
     "data": {
      "text/plain": [
       "0"
      ]
     },
     "execution_count": 54,
     "metadata": {},
     "output_type": "execute_result"
    }
   ],
   "source": [
    "myfile.seek(0)"
   ]
  },
  {
   "cell_type": "code",
   "execution_count": 55,
   "id": "b217cee0",
   "metadata": {},
   "outputs": [
    {
     "data": {
      "text/plain": [
       "'Hello, this is a quick test file.\\nThis is the second line of the file.\\n'"
      ]
     },
     "execution_count": 55,
     "metadata": {},
     "output_type": "execute_result"
    }
   ],
   "source": [
    "myfile.read()"
   ]
  },
  {
   "cell_type": "code",
   "execution_count": 56,
   "id": "2829c146",
   "metadata": {},
   "outputs": [
    {
     "data": {
      "text/plain": [
       "0"
      ]
     },
     "execution_count": 56,
     "metadata": {},
     "output_type": "execute_result"
    }
   ],
   "source": [
    "myfile.seek(0)"
   ]
  },
  {
   "cell_type": "code",
   "execution_count": 57,
   "id": "80c21225",
   "metadata": {},
   "outputs": [],
   "source": [
    "content = myfile.read()"
   ]
  },
  {
   "cell_type": "code",
   "execution_count": 58,
   "id": "dd87f89f",
   "metadata": {},
   "outputs": [
    {
     "name": "stdout",
     "output_type": "stream",
     "text": [
      "Hello, this is a quick test file.\n",
      "This is the second line of the file.\n",
      "\n"
     ]
    }
   ],
   "source": [
    "print(content)"
   ]
  },
  {
   "cell_type": "code",
   "execution_count": 59,
   "id": "cf1c3a87",
   "metadata": {},
   "outputs": [],
   "source": [
    "# Close the file\n",
    "myfile.close()"
   ]
  },
  {
   "cell_type": "code",
   "execution_count": 60,
   "id": "74a79f92",
   "metadata": {},
   "outputs": [],
   "source": [
    "myfile = open('test.txt')"
   ]
  },
  {
   "cell_type": "code",
   "execution_count": 61,
   "id": "3b184c33",
   "metadata": {},
   "outputs": [
    {
     "data": {
      "text/plain": [
       "['Hello, this is a quick test file.\\n',\n",
       " 'This is the second line of the file.\\n']"
      ]
     },
     "execution_count": 61,
     "metadata": {},
     "output_type": "execute_result"
    }
   ],
   "source": [
    "# readlines() : read seperate item in the list\n",
    "myfile.readlines()"
   ]
  },
  {
   "cell_type": "code",
   "execution_count": 62,
   "id": "c4384714",
   "metadata": {},
   "outputs": [
    {
     "data": {
      "text/plain": [
       "0"
      ]
     },
     "execution_count": 62,
     "metadata": {},
     "output_type": "execute_result"
    }
   ],
   "source": [
    "myfile.seek(0)"
   ]
  },
  {
   "cell_type": "code",
   "execution_count": 63,
   "id": "1e1aaade",
   "metadata": {},
   "outputs": [],
   "source": [
    "mylines = myfile.readlines()"
   ]
  },
  {
   "cell_type": "code",
   "execution_count": 64,
   "id": "8e12ab01",
   "metadata": {},
   "outputs": [
    {
     "data": {
      "text/plain": [
       "['Hello, this is a quick test file.\\n',\n",
       " 'This is the second line of the file.\\n']"
      ]
     },
     "execution_count": 64,
     "metadata": {},
     "output_type": "execute_result"
    }
   ],
   "source": [
    "mylines"
   ]
  },
  {
   "cell_type": "code",
   "execution_count": 67,
   "id": "f3fbd924",
   "metadata": {},
   "outputs": [
    {
     "name": "stdout",
     "output_type": "stream",
     "text": [
      "Hello,\n",
      "This\n"
     ]
    }
   ],
   "source": [
    "for line in mylines:\n",
    "#     print(line[0])\n",
    "    print(line.split()[0])"
   ]
  },
  {
   "cell_type": "markdown",
   "id": "2ad49d1f",
   "metadata": {},
   "source": [
    "### Write to a file"
   ]
  },
  {
   "cell_type": "code",
   "execution_count": 73,
   "id": "350ad09d",
   "metadata": {},
   "outputs": [],
   "source": [
    "myfile = open('test.txt','w+')# it will read or write and overwrite the file"
   ]
  },
  {
   "cell_type": "code",
   "execution_count": 74,
   "id": "8e35343a",
   "metadata": {},
   "outputs": [
    {
     "data": {
      "text/plain": [
       "''"
      ]
     },
     "execution_count": 74,
     "metadata": {},
     "output_type": "execute_result"
    }
   ],
   "source": [
    "myfile.read()"
   ]
  },
  {
   "cell_type": "code",
   "execution_count": 75,
   "id": "e2681548",
   "metadata": {},
   "outputs": [
    {
     "data": {
      "text/plain": [
       "17"
      ]
     },
     "execution_count": 75,
     "metadata": {},
     "output_type": "execute_result"
    }
   ],
   "source": [
    "myfile.write('My Brand new text')"
   ]
  },
  {
   "cell_type": "code",
   "execution_count": 76,
   "id": "41991620",
   "metadata": {},
   "outputs": [
    {
     "data": {
      "text/plain": [
       "0"
      ]
     },
     "execution_count": 76,
     "metadata": {},
     "output_type": "execute_result"
    }
   ],
   "source": [
    "myfile.seek(0)"
   ]
  },
  {
   "cell_type": "code",
   "execution_count": 77,
   "id": "1e6a6797",
   "metadata": {},
   "outputs": [
    {
     "data": {
      "text/plain": [
       "'My Brand new text'"
      ]
     },
     "execution_count": 77,
     "metadata": {},
     "output_type": "execute_result"
    }
   ],
   "source": [
    "myfile.read()"
   ]
  },
  {
   "cell_type": "code",
   "execution_count": 78,
   "id": "299c343e",
   "metadata": {},
   "outputs": [],
   "source": [
    "myfile.close()"
   ]
  },
  {
   "cell_type": "markdown",
   "id": "08e97da4",
   "metadata": {},
   "source": [
    "##### Appending to a file"
   ]
  },
  {
   "cell_type": "code",
   "execution_count": 83,
   "id": "e14eb278",
   "metadata": {},
   "outputs": [],
   "source": [
    "myfile = open('test1.txt', 'a+') # append and open it"
   ]
  },
  {
   "cell_type": "code",
   "execution_count": 84,
   "id": "13f6311d",
   "metadata": {},
   "outputs": [
    {
     "data": {
      "text/plain": [
       "37"
      ]
     },
     "execution_count": 84,
     "metadata": {},
     "output_type": "execute_result"
    }
   ],
   "source": [
    "myfile.write('My first line in a+ appending opening')"
   ]
  },
  {
   "cell_type": "code",
   "execution_count": 85,
   "id": "05adcc8f",
   "metadata": {},
   "outputs": [],
   "source": [
    "myfile.close()"
   ]
  },
  {
   "cell_type": "code",
   "execution_count": 87,
   "id": "0ac87e33",
   "metadata": {},
   "outputs": [],
   "source": [
    "newFile = open('test1.txt')"
   ]
  },
  {
   "cell_type": "code",
   "execution_count": 88,
   "id": "7bf85251",
   "metadata": {},
   "outputs": [
    {
     "data": {
      "text/plain": [
       "'My first line in a+ appending opening'"
      ]
     },
     "execution_count": 88,
     "metadata": {},
     "output_type": "execute_result"
    }
   ],
   "source": [
    "newFile.read()"
   ]
  },
  {
   "cell_type": "code",
   "execution_count": 89,
   "id": "d75c06c1",
   "metadata": {},
   "outputs": [
    {
     "ename": "UnsupportedOperation",
     "evalue": "not writable",
     "output_type": "error",
     "traceback": [
      "\u001b[0;31m---------------------------------------------------------------------------\u001b[0m",
      "\u001b[0;31mUnsupportedOperation\u001b[0m                      Traceback (most recent call last)",
      "Cell \u001b[0;32mIn[89], line 1\u001b[0m\n\u001b[0;32m----> 1\u001b[0m newFile\u001b[38;5;241m.\u001b[39mwrite(\u001b[38;5;124m'\u001b[39m\u001b[38;5;124madding it with read only permission\u001b[39m\u001b[38;5;124m'\u001b[39m)\n",
      "\u001b[0;31mUnsupportedOperation\u001b[0m: not writable"
     ]
    }
   ],
   "source": [
    "newFile.write('adding it with read only permission')"
   ]
  },
  {
   "cell_type": "code",
   "execution_count": 90,
   "id": "cd09dbe0",
   "metadata": {},
   "outputs": [],
   "source": [
    "newFile.close()"
   ]
  },
  {
   "cell_type": "code",
   "execution_count": 91,
   "id": "9c345c07",
   "metadata": {},
   "outputs": [],
   "source": [
    "myfile = open('test1.txt', mode='a+')"
   ]
  },
  {
   "cell_type": "code",
   "execution_count": 92,
   "id": "590f1899",
   "metadata": {},
   "outputs": [
    {
     "data": {
      "text/plain": [
       "41"
      ]
     },
     "execution_count": 92,
     "metadata": {},
     "output_type": "execute_result"
    }
   ],
   "source": [
    "myfile.write(\"Adding a line, because of a+ mode is used\")"
   ]
  },
  {
   "cell_type": "code",
   "execution_count": 93,
   "id": "a1f8ae2d",
   "metadata": {},
   "outputs": [
    {
     "data": {
      "text/plain": [
       "0"
      ]
     },
     "execution_count": 93,
     "metadata": {},
     "output_type": "execute_result"
    }
   ],
   "source": [
    "myfile.seek(0)"
   ]
  },
  {
   "cell_type": "code",
   "execution_count": 94,
   "id": "1f3c84d1",
   "metadata": {},
   "outputs": [
    {
     "data": {
      "text/plain": [
       "'My first line in a+ appending openingAdding a line, because of a+ mode is used'"
      ]
     },
     "execution_count": 94,
     "metadata": {},
     "output_type": "execute_result"
    }
   ],
   "source": [
    "myfile.read()"
   ]
  },
  {
   "cell_type": "code",
   "execution_count": 95,
   "id": "395746df",
   "metadata": {},
   "outputs": [
    {
     "data": {
      "text/plain": [
       "37"
      ]
     },
     "execution_count": 95,
     "metadata": {},
     "output_type": "execute_result"
    }
   ],
   "source": [
    "myfile.write('\\nThis is a new line, on the next line')"
   ]
  },
  {
   "cell_type": "code",
   "execution_count": 96,
   "id": "6c8c2d43",
   "metadata": {},
   "outputs": [
    {
     "data": {
      "text/plain": [
       "0"
      ]
     },
     "execution_count": 96,
     "metadata": {},
     "output_type": "execute_result"
    }
   ],
   "source": [
    "myfile.seek(0)"
   ]
  },
  {
   "cell_type": "code",
   "execution_count": 97,
   "id": "9fe2afaf",
   "metadata": {},
   "outputs": [
    {
     "data": {
      "text/plain": [
       "'My first line in a+ appending openingAdding a line, because of a+ mode is used\\nThis is a new line, on the next line'"
      ]
     },
     "execution_count": 97,
     "metadata": {},
     "output_type": "execute_result"
    }
   ],
   "source": [
    "myfile.read()"
   ]
  },
  {
   "cell_type": "code",
   "execution_count": 98,
   "id": "bcebfa64",
   "metadata": {},
   "outputs": [
    {
     "data": {
      "text/plain": [
       "0"
      ]
     },
     "execution_count": 98,
     "metadata": {},
     "output_type": "execute_result"
    }
   ],
   "source": [
    "myfile.seek(0)"
   ]
  },
  {
   "cell_type": "code",
   "execution_count": 99,
   "id": "0609ea99",
   "metadata": {},
   "outputs": [
    {
     "name": "stdout",
     "output_type": "stream",
     "text": [
      "My first line in a+ appending openingAdding a line, because of a+ mode is used\n",
      "This is a new line, on the next line\n"
     ]
    }
   ],
   "source": [
    "print(myfile.read())"
   ]
  },
  {
   "cell_type": "code",
   "execution_count": 100,
   "id": "a35280b4",
   "metadata": {},
   "outputs": [],
   "source": [
    "# using context manager to close the file"
   ]
  },
  {
   "cell_type": "markdown",
   "id": "edf4fc61",
   "metadata": {},
   "source": [
    "### Aliases and context manager : with"
   ]
  },
  {
   "cell_type": "code",
   "execution_count": 101,
   "id": "7c5c3a11",
   "metadata": {},
   "outputs": [],
   "source": [
    "with open('test1.txt', 'r') as mynewfile:\n",
    "    myvariable = mynewfile.readlines()"
   ]
  },
  {
   "cell_type": "code",
   "execution_count": 102,
   "id": "3358e37f",
   "metadata": {},
   "outputs": [
    {
     "data": {
      "text/plain": [
       "['My first line in a+ appending openingAdding a line, because of a+ mode is used\\n',\n",
       " 'This is a new line, on the next line']"
      ]
     },
     "execution_count": 102,
     "metadata": {},
     "output_type": "execute_result"
    }
   ],
   "source": [
    "myvariable"
   ]
  },
  {
   "cell_type": "code",
   "execution_count": null,
   "id": "604f711c",
   "metadata": {},
   "outputs": [],
   "source": []
  }
 ],
 "metadata": {
  "kernelspec": {
   "display_name": "Python 3 (ipykernel)",
   "language": "python",
   "name": "python3"
  },
  "language_info": {
   "codemirror_mode": {
    "name": "ipython",
    "version": 3
   },
   "file_extension": ".py",
   "mimetype": "text/x-python",
   "name": "python",
   "nbconvert_exporter": "python",
   "pygments_lexer": "ipython3",
   "version": "3.11.5"
  }
 },
 "nbformat": 4,
 "nbformat_minor": 5
}
